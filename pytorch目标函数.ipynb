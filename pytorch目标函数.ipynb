{
 "cells": [
  {
   "cell_type": "code",
   "execution_count": 23,
   "id": "freelance-pioneer",
   "metadata": {},
   "outputs": [],
   "source": [
    "import numpy as np\n",
    "import torch\n",
    "import torch.nn as nn\n",
    "import torch.nn.functional as F"
   ]
  },
  {
   "cell_type": "markdown",
   "id": "first-ukraine",
   "metadata": {},
   "source": [
    "# Cross Entropy"
   ]
  },
  {
   "cell_type": "code",
   "execution_count": 24,
   "id": "ecological-projector",
   "metadata": {},
   "outputs": [],
   "source": [
    "# logits shape[BS,NC]\n",
    "batchsize = 2\n",
    "num_class = 4\n",
    "\n",
    "#神经网络的输出值\n",
    "logits = torch.randn(batchsize,num_class) #input unnormalized socre\n",
    "#目标\n",
    "target_indices = torch.randint(num_class,size = (batchsize,)) # delta目标分布"
   ]
  },
  {
   "cell_type": "code",
   "execution_count": 68,
   "id": "retained-place",
   "metadata": {},
   "outputs": [
    {
     "data": {
      "text/plain": [
       "tensor(1.6490)"
      ]
     },
     "execution_count": 68,
     "metadata": {},
     "output_type": "execute_result"
    }
   ],
   "source": [
    "## 调用Cross Entropy loss 第一种方法\n",
    "ce_loss_fn = torch.nn.CrossEntropyLoss()\n",
    "ce_loss = ce_loss_fn(logits, target_indices)\n",
    "ce_loss"
   ]
  },
  {
   "cell_type": "code",
   "execution_count": 69,
   "id": "common-irish",
   "metadata": {},
   "outputs": [
    {
     "data": {
      "text/plain": [
       "tensor(1.8511)"
      ]
     },
     "execution_count": 69,
     "metadata": {},
     "output_type": "execute_result"
    }
   ],
   "source": [
    "## 调用Cross Entropy loss 第二种方法\n",
    "target_logits = torch.randn(batchsize,num_class)#非delta目标分布\n",
    "ce_loss = ce_loss_fn(logits, torch.softmax(target_logits,dim=-1))\n",
    "ce_loss"
   ]
  },
  {
   "cell_type": "code",
   "execution_count": 70,
   "id": "boolean-elizabeth",
   "metadata": {},
   "outputs": [],
   "source": [
    "# Example of target with class indices\n",
    "loss = nn.CrossEntropyLoss()\n",
    "input = torch.randn(3, 5, requires_grad=True)\n",
    "input\n",
    "target = torch.empty(3, dtype=torch.long).random_(5)\n",
    "target\n",
    "output = loss(input, target)\n",
    "output.backward()"
   ]
  },
  {
   "cell_type": "code",
   "execution_count": 57,
   "id": "retained-salvation",
   "metadata": {},
   "outputs": [
    {
     "data": {
      "text/plain": [
       "tensor([[-0.9328,  0.1976, -0.0919,  1.6000,  0.4952],\n",
       "        [ 0.2369, -1.2858,  1.4548,  0.8806,  0.1214],\n",
       "        [ 0.6858,  1.6610,  1.6405,  0.7881, -1.0305]], requires_grad=True)"
      ]
     },
     "execution_count": 57,
     "metadata": {},
     "output_type": "execute_result"
    }
   ],
   "source": [
    "input"
   ]
  },
  {
   "cell_type": "code",
   "execution_count": 58,
   "id": "solid-yesterday",
   "metadata": {},
   "outputs": [
    {
     "data": {
      "text/plain": [
       "tensor([1, 1, 0])"
      ]
     },
     "execution_count": 58,
     "metadata": {},
     "output_type": "execute_result"
    }
   ],
   "source": [
    "target"
   ]
  },
  {
   "cell_type": "code",
   "execution_count": 59,
   "id": "bound-eating",
   "metadata": {},
   "outputs": [
    {
     "data": {
      "text/plain": [
       "tensor(2.5186, grad_fn=<NllLossBackward0>)"
      ]
     },
     "execution_count": 59,
     "metadata": {},
     "output_type": "execute_result"
    }
   ],
   "source": [
    "output"
   ]
  },
  {
   "cell_type": "code",
   "execution_count": 31,
   "id": "experienced-directory",
   "metadata": {},
   "outputs": [],
   "source": [
    "# Example of target with class probabilities\n",
    "input = torch.randn(3, 5, requires_grad=True)\n",
    "target = torch.randn(3, 5).softmax(dim=1)\n",
    "output = loss(input, target)\n",
    "output.backward()"
   ]
  },
  {
   "cell_type": "markdown",
   "id": "drawn-night",
   "metadata": {},
   "source": [
    "# 调用Negatice Log Likelihood Loss"
   ]
  },
  {
   "cell_type": "code",
   "execution_count": 34,
   "id": "continuous-trader",
   "metadata": {},
   "outputs": [],
   "source": [
    "nll_fun = torch.nn.NLLLoss()\n",
    "nll_loss = nll_fun(torch.log(torch.softmax(logits,dim =-1)), target_indices)"
   ]
  },
  {
   "cell_type": "code",
   "execution_count": 35,
   "id": "finnish-mississippi",
   "metadata": {},
   "outputs": [
    {
     "data": {
      "text/plain": [
       "tensor(1.6490)"
      ]
     },
     "execution_count": 35,
     "metadata": {},
     "output_type": "execute_result"
    }
   ],
   "source": [
    "nll_loss # 和ce loss 一样 交叉熵就是负的对数似然（所有的样本乘在一起）"
   ]
  },
  {
   "cell_type": "markdown",
   "id": "settled-dress",
   "metadata": {},
   "source": [
    "# KL散度"
   ]
  },
  {
   "cell_type": "code",
   "execution_count": 42,
   "id": "reasonable-tomorrow",
   "metadata": {},
   "outputs": [],
   "source": [
    "kld_loss_fun = torch.nn.KLDivLoss()"
   ]
  },
  {
   "cell_type": "code",
   "execution_count": 44,
   "id": "female-merchandise",
   "metadata": {},
   "outputs": [
    {
     "data": {
      "text/plain": [
       "tensor(0.1117)"
      ]
     },
     "execution_count": 44,
     "metadata": {},
     "output_type": "execute_result"
    }
   ],
   "source": [
    "kld_loss = kld_loss_fun(torch.log(torch.softmax(logits,dim =-1)), torch.softmax(target_logits,dim=-1))\n",
    "kld_loss"
   ]
  },
  {
   "cell_type": "markdown",
   "id": "fifteen-essay",
   "metadata": {},
   "source": [
    "# 验证 交叉熵 = 信息熵 + KL散度"
   ]
  },
  {
   "cell_type": "code",
   "execution_count": 78,
   "id": "beautiful-sociology",
   "metadata": {},
   "outputs": [
    {
     "data": {
      "text/plain": [
       "tensor([1.8164, 1.8859])"
      ]
     },
     "execution_count": 78,
     "metadata": {},
     "output_type": "execute_result"
    }
   ],
   "source": [
    "ce_loss_fun_sample = torch.nn.CrossEntropyLoss(reduction=\"none\")\n",
    "ce_loss_sample = ce_loss_fun_sample(logits, torch.softmax(target_logits,dim=-1))\n",
    "ce_loss_sample"
   ]
  },
  {
   "cell_type": "code",
   "execution_count": 81,
   "id": "entertaining-stockholm",
   "metadata": {},
   "outputs": [
    {
     "data": {
      "text/plain": [
       "tensor([0.7627, 0.8423])"
      ]
     },
     "execution_count": 81,
     "metadata": {},
     "output_type": "execute_result"
    }
   ],
   "source": [
    "kld_loss_fn_sample = torch.nn.KLDivLoss(reduction=\"none\")\n",
    "kld_loss_sample = kld_loss_fn_sample(torch.log(torch.softmax(logits,dim =-1)), torch.softmax(target_logits,dim=-1))\n",
    "kld_loss_sample.sum(-1)"
   ]
  },
  {
   "cell_type": "code",
   "execution_count": 86,
   "id": "rocky-assignment",
   "metadata": {},
   "outputs": [
    {
     "data": {
      "text/plain": [
       "tensor([1.0537, 1.0435])"
      ]
     },
     "execution_count": 86,
     "metadata": {},
     "output_type": "execute_result"
    }
   ],
   "source": [
    "target_information_entropy = torch.distributions.Categorical(probs = torch.softmax(target_logits,dim=-1)).entropy()\n",
    "target_information_entropy # ie一般为常数 如果目标分布是delt分布 ie = 0"
   ]
  },
  {
   "cell_type": "code",
   "execution_count": 84,
   "id": "activated-purpose",
   "metadata": {},
   "outputs": [
    {
     "name": "stdout",
     "output_type": "stream",
     "text": [
      "True\n"
     ]
    }
   ],
   "source": [
    "print(torch.allclose(ce_loss_sample, kld_loss_sample.sum(-1) + target_information_entropy))"
   ]
  },
  {
   "cell_type": "markdown",
   "id": "together-battle",
   "metadata": {},
   "source": [
    "使用KL loss 和 CELoss 优化是一样的"
   ]
  },
  {
   "cell_type": "markdown",
   "id": "tropical-claim",
   "metadata": {},
   "source": [
    "# 二分类交叉熵"
   ]
  },
  {
   "cell_type": "code",
   "execution_count": 99,
   "id": "essential-digit",
   "metadata": {},
   "outputs": [
    {
     "data": {
      "text/plain": [
       "tensor(0.7198)"
      ]
     },
     "execution_count": 99,
     "metadata": {},
     "output_type": "execute_result"
    }
   ],
   "source": [
    "bce_loss_fun = torch.nn.BCELoss()\n",
    "logits_binary = torch.randn(batchsize)\n",
    "prob_1 = torch.sigmoid(logits_binary)\n",
    "target = torch.randint(2,size=(batchsize,))\n",
    "bce_loss = bce_loss_fun(prob_1,target.float())\n",
    "bce_loss"
   ]
  }
 ],
 "metadata": {
  "kernelspec": {
   "display_name": "Python 3",
   "language": "python",
   "name": "python3"
  },
  "language_info": {
   "codemirror_mode": {
    "name": "ipython",
    "version": 3
   },
   "file_extension": ".py",
   "mimetype": "text/x-python",
   "name": "python",
   "nbconvert_exporter": "python",
   "pygments_lexer": "ipython3",
   "version": "3.8.7"
  }
 },
 "nbformat": 4,
 "nbformat_minor": 5
}
