{
 "cells": [
  {
   "cell_type": "code",
   "execution_count": 2,
   "id": "thermal-healthcare",
   "metadata": {},
   "outputs": [
    {
     "data": {
      "text/plain": [
       "'1.12.1'"
      ]
     },
     "execution_count": 2,
     "metadata": {},
     "output_type": "execute_result"
    }
   ],
   "source": [
    "import torch\n",
    "torch.__version__"
   ]
  },
  {
   "cell_type": "markdown",
   "id": "dying-power",
   "metadata": {},
   "source": [
    "# 基本使用方法\n",
    "创建一个矩阵"
   ]
  },
  {
   "cell_type": "code",
   "execution_count": 3,
   "id": "norman-floating",
   "metadata": {},
   "outputs": [
    {
     "data": {
      "text/plain": [
       "tensor([[ 1.0562e+27,  4.5813e-41,  6.3797e+13],\n",
       "        [-4.1716e+02,  2.2981e+25,  4.5813e-41],\n",
       "        [ 1.0562e+27,  4.5813e-41,  0.0000e+00],\n",
       "        [ 0.0000e+00,  0.0000e+00,  0.0000e+00],\n",
       "        [ 0.0000e+00,  0.0000e+00,  0.0000e+00]])"
      ]
     },
     "execution_count": 3,
     "metadata": {},
     "output_type": "execute_result"
    }
   ],
   "source": [
    "x = torch.empty(5,3)\n",
    "x"
   ]
  },
  {
   "cell_type": "code",
   "execution_count": 4,
   "id": "spectacular-packaging",
   "metadata": {},
   "outputs": [
    {
     "data": {
      "text/plain": [
       "tensor([[0.3268, 0.1890, 0.6235],\n",
       "        [0.1785, 0.5696, 0.7661],\n",
       "        [0.3095, 0.4786, 0.4230],\n",
       "        [0.3117, 0.6815, 0.5586],\n",
       "        [0.6858, 0.5448, 0.5044]])"
      ]
     },
     "execution_count": 4,
     "metadata": {},
     "output_type": "execute_result"
    }
   ],
   "source": [
    "x = torch.rand(5,3)\n",
    "x"
   ]
  },
  {
   "cell_type": "markdown",
   "id": "certified-acrobat",
   "metadata": {},
   "source": [
    "初始化一个全零的矩阵"
   ]
  },
  {
   "cell_type": "code",
   "execution_count": 5,
   "id": "professional-mixture",
   "metadata": {},
   "outputs": [
    {
     "data": {
      "text/plain": [
       "tensor([[0, 0, 0, 0],\n",
       "        [0, 0, 0, 0],\n",
       "        [0, 0, 0, 0],\n",
       "        [0, 0, 0, 0],\n",
       "        [0, 0, 0, 0]])"
      ]
     },
     "execution_count": 5,
     "metadata": {},
     "output_type": "execute_result"
    }
   ],
   "source": [
    "x = torch.zeros(5,4, dtype = torch.long)\n",
    "x"
   ]
  },
  {
   "cell_type": "markdown",
   "id": "mental-video",
   "metadata": {},
   "source": [
    "直接传入数据"
   ]
  },
  {
   "cell_type": "code",
   "execution_count": 6,
   "id": "nonprofit-coordinate",
   "metadata": {},
   "outputs": [
    {
     "data": {
      "text/plain": [
       "tensor([5.5000, 3.0000])"
      ]
     },
     "execution_count": 6,
     "metadata": {},
     "output_type": "execute_result"
    }
   ],
   "source": [
    "x = torch.tensor([5.5,3])\n",
    "x"
   ]
  },
  {
   "cell_type": "code",
   "execution_count": 8,
   "id": "south-yukon",
   "metadata": {},
   "outputs": [
    {
     "data": {
      "text/plain": [
       "tensor([[1., 1., 1.],\n",
       "        [1., 1., 1.],\n",
       "        [1., 1., 1.],\n",
       "        [1., 1., 1.],\n",
       "        [1., 1., 1.]], dtype=torch.float64)"
      ]
     },
     "execution_count": 8,
     "metadata": {},
     "output_type": "execute_result"
    }
   ],
   "source": [
    "x = x.new_ones(5,3, dtype = torch.double)\n",
    "x"
   ]
  },
  {
   "cell_type": "code",
   "execution_count": 9,
   "id": "intermediate-archive",
   "metadata": {},
   "outputs": [
    {
     "data": {
      "text/plain": [
       "tensor([[-1.2016,  2.1770, -1.6481],\n",
       "        [ 2.3362,  0.5231,  0.6626],\n",
       "        [-0.6784, -0.9417, -0.4030],\n",
       "        [-1.1060, -1.0681, -0.2780],\n",
       "        [-3.2690, -0.5869, -0.6283]])"
      ]
     },
     "execution_count": 9,
     "metadata": {},
     "output_type": "execute_result"
    }
   ],
   "source": [
    "x = torch.randn_like(x, dtype = torch.float)\n",
    "x"
   ]
  },
  {
   "cell_type": "markdown",
   "id": "mechanical-symphony",
   "metadata": {},
   "source": [
    "展示矩阵大小"
   ]
  },
  {
   "cell_type": "code",
   "execution_count": 10,
   "id": "nervous-therapy",
   "metadata": {},
   "outputs": [
    {
     "data": {
      "text/plain": [
       "torch.Size([5, 3])"
      ]
     },
     "execution_count": 10,
     "metadata": {},
     "output_type": "execute_result"
    }
   ],
   "source": [
    "x.size()"
   ]
  },
  {
   "cell_type": "markdown",
   "id": "studied-scratch",
   "metadata": {},
   "source": [
    "# 基本计算方法"
   ]
  },
  {
   "cell_type": "code",
   "execution_count": 11,
   "id": "cosmetic-adaptation",
   "metadata": {},
   "outputs": [
    {
     "data": {
      "text/plain": [
       "tensor([[-0.9437,  2.8478, -0.7954],\n",
       "        [ 3.0577,  0.8049,  1.2711],\n",
       "        [-0.5917, -0.0357, -0.1497],\n",
       "        [-1.0915, -0.6201,  0.1979],\n",
       "        [-2.7940,  0.2120, -0.4428]])"
      ]
     },
     "execution_count": 11,
     "metadata": {},
     "output_type": "execute_result"
    }
   ],
   "source": [
    "y = torch.rand(5,3)\n",
    "x + y"
   ]
  },
  {
   "cell_type": "code",
   "execution_count": 12,
   "id": "square-cookbook",
   "metadata": {},
   "outputs": [
    {
     "data": {
      "text/plain": [
       "tensor([[-0.9437,  2.8478, -0.7954],\n",
       "        [ 3.0577,  0.8049,  1.2711],\n",
       "        [-0.5917, -0.0357, -0.1497],\n",
       "        [-1.0915, -0.6201,  0.1979],\n",
       "        [-2.7940,  0.2120, -0.4428]])"
      ]
     },
     "execution_count": 12,
     "metadata": {},
     "output_type": "execute_result"
    }
   ],
   "source": [
    "torch.add(x,y)"
   ]
  },
  {
   "cell_type": "markdown",
   "id": "worst-chemistry",
   "metadata": {},
   "source": [
    "# 索引"
   ]
  },
  {
   "cell_type": "code",
   "execution_count": 13,
   "id": "southwest-baseball",
   "metadata": {},
   "outputs": [
    {
     "data": {
      "text/plain": [
       "tensor([[-1.2016,  2.1770, -1.6481],\n",
       "        [ 2.3362,  0.5231,  0.6626],\n",
       "        [-0.6784, -0.9417, -0.4030],\n",
       "        [-1.1060, -1.0681, -0.2780],\n",
       "        [-3.2690, -0.5869, -0.6283]])"
      ]
     },
     "execution_count": 13,
     "metadata": {},
     "output_type": "execute_result"
    }
   ],
   "source": [
    "x"
   ]
  },
  {
   "cell_type": "code",
   "execution_count": 14,
   "id": "golden-basics",
   "metadata": {},
   "outputs": [
    {
     "data": {
      "text/plain": [
       "tensor([ 2.1770,  0.5231, -0.9417, -1.0681, -0.5869])"
      ]
     },
     "execution_count": 14,
     "metadata": {},
     "output_type": "execute_result"
    }
   ],
   "source": [
    "x[:,1]"
   ]
  },
  {
   "cell_type": "markdown",
   "id": "executive-airfare",
   "metadata": {},
   "source": [
    "# view操作可以改变矩阵的维度"
   ]
  },
  {
   "cell_type": "code",
   "execution_count": 17,
   "id": "built-bibliography",
   "metadata": {},
   "outputs": [
    {
     "name": "stdout",
     "output_type": "stream",
     "text": [
      "torch.Size([4, 4]) torch.Size([16]) torch.Size([2, 8])\n"
     ]
    }
   ],
   "source": [
    "x = torch.rand(4,4)\n",
    "y = x.view(16)\n",
    "z = x.view(-1, 8)\n",
    "print(x.size(),y.size(),z.size())"
   ]
  },
  {
   "cell_type": "markdown",
   "id": "nominated-recognition",
   "metadata": {},
   "source": [
    "# 与Numpy的协同操作"
   ]
  },
  {
   "cell_type": "markdown",
   "id": "meaningful-shannon",
   "metadata": {},
   "source": [
    "torch to numpy"
   ]
  },
  {
   "cell_type": "code",
   "execution_count": 18,
   "id": "elder-cherry",
   "metadata": {},
   "outputs": [
    {
     "data": {
      "text/plain": [
       "array([1., 1., 1., 1., 1.], dtype=float32)"
      ]
     },
     "execution_count": 18,
     "metadata": {},
     "output_type": "execute_result"
    }
   ],
   "source": [
    "a = torch.ones(5)\n",
    "b = a.numpy()\n",
    "b"
   ]
  },
  {
   "cell_type": "markdown",
   "id": "martial-sydney",
   "metadata": {},
   "source": [
    "numpy to torch"
   ]
  },
  {
   "cell_type": "code",
   "execution_count": 19,
   "id": "sealed-projection",
   "metadata": {},
   "outputs": [
    {
     "data": {
      "text/plain": [
       "tensor([1., 1., 1., 1., 1.], dtype=torch.float64)"
      ]
     },
     "execution_count": 19,
     "metadata": {},
     "output_type": "execute_result"
    }
   ],
   "source": [
    "import numpy as np\n",
    "a = np.ones(5)\n",
    "b = torch.from_numpy(a)\n",
    "b"
   ]
  },
  {
   "cell_type": "code",
   "execution_count": null,
   "id": "subject-indonesian",
   "metadata": {},
   "outputs": [],
   "source": []
  }
 ],
 "metadata": {
  "kernelspec": {
   "display_name": "Python 3",
   "language": "python",
   "name": "python3"
  },
  "language_info": {
   "codemirror_mode": {
    "name": "ipython",
    "version": 3
   },
   "file_extension": ".py",
   "mimetype": "text/x-python",
   "name": "python",
   "nbconvert_exporter": "python",
   "pygments_lexer": "ipython3",
   "version": "3.8.7"
  }
 },
 "nbformat": 4,
 "nbformat_minor": 5
}
